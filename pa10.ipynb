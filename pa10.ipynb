{
 "cells": [
  {
   "cell_type": "markdown",
   "id": "3c09c79f",
   "metadata": {},
   "source": [
    "#### Q1. What is the difference between __getattr__ and __getattribute__?\n",
    "\n",
    "__getattribute__ is called every time an attribute is accessed, regardless of whether the attribute exists or not. This method is used to provide a custom behavior for all attribute accesses on an object.\n",
    "\n",
    "__getattr__ is called only when an attribute cannot be found by the default attribute access mechanism. It is used to provide a default behavior for attribute accesses on an object."
   ]
  },
  {
   "cell_type": "markdown",
   "id": "0303448f",
   "metadata": {},
   "source": [
    "#### Q2. What is the difference between properties and descriptors?\n",
    "\n",
    "A property is a special kind of attribute that is defined using the property built-in function or the @property decorator. It allows you to define methods that are called when the attribute is accessed, modified, or deleted. These methods are called the \"getter\", \"setter\", and \"deleter\" methods, respectively. Properties are a way of creating a read-only or read-write attributes with a defined getter and/or setter methods.\n",
    "\n",
    "On the other hand, a descriptor is an object that defines one or more of the special methods __get__(), __set__(), and __delete__() to control access to an attribute. A descriptor is a class-level attribute defined in a class definition. When an instance attribute with the same name is defined, Python checks for the descriptor. If it exists, it uses the descriptor's methods to access, set or delete the attribute, instead of the instance attribute."
   ]
  },
  {
   "cell_type": "markdown",
   "id": "39644cfe",
   "metadata": {},
   "source": [
    "#### Q3. What are the key differences in functionality between __getattr__ and __getattribute__, as well as properties and descriptors?\n",
    "\n",
    "__getattribute__ is called every time an attribute is accessed, regardless of whether the attribute exists or not. \n",
    " __getattr__ is called only when an attribute cannot be found by the default attribute access mechanism. It is used to provide a default behavior for attribute accesses on an object.\n",
    "Properties are a way of creating a read-only or read-write attributes with a defined getter and/or setter methods.\n",
    " descriptors are an object that defines one or more of the special methods __get__(), __set__(), and __delete__() to control access to an attribute."
   ]
  }
 ],
 "metadata": {
  "kernelspec": {
   "display_name": "Python 3 (ipykernel)",
   "language": "python",
   "name": "python3"
  },
  "language_info": {
   "codemirror_mode": {
    "name": "ipython",
    "version": 3
   },
   "file_extension": ".py",
   "mimetype": "text/x-python",
   "name": "python",
   "nbconvert_exporter": "python",
   "pygments_lexer": "ipython3",
   "version": "3.9.12"
  }
 },
 "nbformat": 4,
 "nbformat_minor": 5
}
